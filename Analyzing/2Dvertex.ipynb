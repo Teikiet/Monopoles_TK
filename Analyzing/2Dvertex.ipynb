{
 "cells": [
  {
   "cell_type": "code",
   "execution_count": 1,
   "metadata": {},
   "outputs": [
    {
     "name": "stderr",
     "output_type": "stream",
     "text": [
      "WARNING:SignalGen.ARZ:setting seed to None\n",
      "WARNING:SignalGen.ARZ:loading shower library (/home/teikiet/NuRadioMC/NuRadioMC/SignalGen/ARZ/shower_library/library_v1.2.pkl) into memory\n"
     ]
    }
   ],
   "source": [
    "import numpy as np\n",
    "import NuRadioMC.utilities.medium\n",
    "import NuRadioMC.SignalGen.askaryan\n",
    "import NuRadioReco.framework.base_trace\n",
    "from NuRadioReco.utilities import units\n",
    "n_samples = 1024\n",
    "viewing_angle = 1. * units.deg\n",
    "sampling_rate = 5. * units.GHz\n",
    "ice = NuRadioMC.utilities.medium.get_ice_model('greenland_simple')\n",
    "ior = ice.get_index_of_refraction([0, 0, -1. * units.km])\n",
    "cherenkov_angle = np.arccos(1. / ior)\n",
    "efield_spec = NuRadioMC.SignalGen.askaryan.get_frequency_spectrum(\n",
    "    energy=1.e18 * units.eV,\n",
    "    theta=viewing_angle + cherenkov_angle,\n",
    "    N=n_samples,\n",
    "    dt=1. / sampling_rate,\n",
    "    shower_type='HAD',\n",
    "    n_index=ior,\n",
    "    R=5. * units.km,\n",
    "    model='ARZ2019'\n",
    ")\n",
    "efield_template = NuRadioReco.framework.base_trace.BaseTrace()\n",
    "efield_template.set_frequency_spectrum(efield_spec, sampling_rate)"
   ]
  },
  {
   "cell_type": "code",
   "execution_count": 6,
   "metadata": {},
   "outputs": [
    {
     "ename": "FileNotFoundError",
     "evalue": "[Errno 2] No such file or directory: '/home/teikiet/Data/test_lookup_table/lookup_table_170.p'",
     "output_type": "error",
     "traceback": [
      "\u001b[0;31m---------------------------------------------------------------------------\u001b[0m",
      "\u001b[0;31mFileNotFoundError\u001b[0m                         Traceback (most recent call last)",
      "File \u001b[0;32m~/NuRadioMC/NuRadioReco/utilities/io_utilities.py:19\u001b[0m, in \u001b[0;36mread_pickle\u001b[0;34m(filename, encoding)\u001b[0m\n\u001b[1;32m     18\u001b[0m \u001b[39mtry\u001b[39;00m:\n\u001b[0;32m---> 19\u001b[0m     \u001b[39mwith\u001b[39;00m \u001b[39mopen\u001b[39;49m(filename, \u001b[39m'\u001b[39;49m\u001b[39mrb\u001b[39;49m\u001b[39m'\u001b[39;49m) \u001b[39mas\u001b[39;00m file:\n\u001b[1;32m     20\u001b[0m         \u001b[39mreturn\u001b[39;00m pickle\u001b[39m.\u001b[39mload(file)\n",
      "\u001b[0;31mFileNotFoundError\u001b[0m: [Errno 2] No such file or directory: '/home/teikiet/Data/test_lookup_table/lookup_table_170.p'",
      "\nDuring handling of the above exception, another exception occurred:\n",
      "\u001b[0;31mFileNotFoundError\u001b[0m                         Traceback (most recent call last)",
      "Cell \u001b[0;32mIn[6], line 15\u001b[0m\n\u001b[1;32m     13\u001b[0m station_id \u001b[39m=\u001b[39m \u001b[39m2\u001b[39m\n\u001b[1;32m     14\u001b[0m n \u001b[39m=\u001b[39m neu2D\u001b[39m.\u001b[39mneutrino2DVertexReconstructor(table1)\n\u001b[0;32m---> 15\u001b[0m n\u001b[39m.\u001b[39;49mbegin(station_id, channel_id, detector\u001b[39m=\u001b[39;49mdet)\n\u001b[1;32m     16\u001b[0m n\u001b[39m.\u001b[39mrun()\n",
      "File \u001b[0;32m~/NuRadioMC/NuRadioReco/modules/neutrinoVertexReconstructor/neutrino2DVertexReconstructor.py:108\u001b[0m, in \u001b[0;36mneutrino2DVertexReconstructor.begin\u001b[0;34m(self, station_id, channel_ids, detector, passband, template, output_path)\u001b[0m\n\u001b[1;32m    106\u001b[0m channel_z \u001b[39m=\u001b[39m \u001b[39mabs\u001b[39m(detector\u001b[39m.\u001b[39mget_relative_position(station_id, channel_id)[\u001b[39m2\u001b[39m])\n\u001b[1;32m    107\u001b[0m \u001b[39mif\u001b[39;00m channel_z \u001b[39mnot\u001b[39;00m \u001b[39min\u001b[39;00m \u001b[39mself\u001b[39m\u001b[39m.\u001b[39m__lookup_table\u001b[39m.\u001b[39mkeys():\n\u001b[0;32m--> 108\u001b[0m     f \u001b[39m=\u001b[39m NuRadioReco\u001b[39m.\u001b[39;49mutilities\u001b[39m.\u001b[39;49mio_utilities\u001b[39m.\u001b[39;49mread_pickle(\u001b[39m'\u001b[39;49m\u001b[39m{}\u001b[39;49;00m\u001b[39m/lookup_table_\u001b[39;49m\u001b[39m{}\u001b[39;49;00m\u001b[39m.p\u001b[39;49m\u001b[39m'\u001b[39;49m\u001b[39m.\u001b[39;49mformat(\u001b[39mself\u001b[39;49m\u001b[39m.\u001b[39;49m__lookup_table_location, \u001b[39mint\u001b[39;49m(\u001b[39mabs\u001b[39;49m(channel_z))))\n\u001b[1;32m    109\u001b[0m     \u001b[39mself\u001b[39m\u001b[39m.\u001b[39m__header[\u001b[39mint\u001b[39m(channel_z)] \u001b[39m=\u001b[39m f[\u001b[39m'\u001b[39m\u001b[39mheader\u001b[39m\u001b[39m'\u001b[39m]\n\u001b[1;32m    110\u001b[0m     \u001b[39mself\u001b[39m\u001b[39m.\u001b[39m__lookup_table[\u001b[39mint\u001b[39m(\u001b[39mabs\u001b[39m(channel_z))] \u001b[39m=\u001b[39m f[\u001b[39m'\u001b[39m\u001b[39mantenna_\u001b[39m\u001b[39m{}\u001b[39;00m\u001b[39m'\u001b[39m\u001b[39m.\u001b[39mformat(channel_z)]\n",
      "File \u001b[0;32m~/NuRadioMC/NuRadioReco/utilities/io_utilities.py:22\u001b[0m, in \u001b[0;36mread_pickle\u001b[0;34m(filename, encoding)\u001b[0m\n\u001b[1;32m     20\u001b[0m         \u001b[39mreturn\u001b[39;00m pickle\u001b[39m.\u001b[39mload(file)\n\u001b[1;32m     21\u001b[0m \u001b[39mexcept\u001b[39;00m:\n\u001b[0;32m---> 22\u001b[0m     \u001b[39mwith\u001b[39;00m \u001b[39mopen\u001b[39;49m(filename, \u001b[39m'\u001b[39;49m\u001b[39mrb\u001b[39;49m\u001b[39m'\u001b[39;49m) \u001b[39mas\u001b[39;00m file:\n\u001b[1;32m     23\u001b[0m         \u001b[39mreturn\u001b[39;00m pickle\u001b[39m.\u001b[39mload(file, encoding\u001b[39m=\u001b[39mencoding)\n",
      "\u001b[0;31mFileNotFoundError\u001b[0m: [Errno 2] No such file or directory: '/home/teikiet/Data/test_lookup_table/lookup_table_170.p'"
     ]
    }
   ],
   "source": [
    "from NuRadioReco.modules.neutrinoVertexReconstructor import neutrino2DVertexReconstructor as neu2D\n",
    "from NuRadioReco.utilities import units\n",
    "import NuRadioReco.detector.detector as detector\n",
    "import numpy as np\n",
    "import matplotlib.pyplot as plt\n",
    "import astropy.time\n",
    "table1 = \"/home/teikiet/Data/test_lookup_table\"\n",
    "detectordescription = \"/home/teikiet/Monopoles/Analyzing/detector/ara2.json\"\n",
    "det = detector.Detector(json_filename=detectordescription)\n",
    "detector_time = astropy.time.Time('2030-01-01 20:00:00')\n",
    "det.update(detector_time)\n",
    "channel_id = [0]\n",
    "station_id = 2\n",
    "n = neu2D.neutrino2DVertexReconstructor(table1)\n",
    "n.begin(station_id, channel_id, detector=det)\n",
    "n.run()"
   ]
  },
  {
   "cell_type": "code",
   "execution_count": 6,
   "metadata": {},
   "outputs": [
    {
     "data": {
      "text/plain": [
       "<bound method DetectorBase.get_relative_position of <NuRadioReco.detector.detector_base.DetectorBase object at 0x7f4b427be680>>"
      ]
     },
     "execution_count": 6,
     "metadata": {},
     "output_type": "execute_result"
    }
   ],
   "source": []
  },
  {
   "cell_type": "code",
   "execution_count": null,
   "metadata": {},
   "outputs": [],
   "source": []
  }
 ],
 "metadata": {
  "kernelspec": {
   "display_name": "Python 3",
   "language": "python",
   "name": "python3"
  },
  "language_info": {
   "codemirror_mode": {
    "name": "ipython",
    "version": 3
   },
   "file_extension": ".py",
   "mimetype": "text/x-python",
   "name": "python",
   "nbconvert_exporter": "python",
   "pygments_lexer": "ipython3",
   "version": "3.10.12"
  },
  "orig_nbformat": 4
 },
 "nbformat": 4,
 "nbformat_minor": 2
}
