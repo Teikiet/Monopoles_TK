{
 "cells": [
  {
   "cell_type": "code",
   "execution_count": 54,
   "metadata": {},
   "outputs": [],
   "source": [
    "import numpy as np\n",
    "import matplotlib\n",
    "from matplotlib import pyplot as plt\n",
    "import h5py\n",
    "import glob \n",
    "from scipy import interpolate\n",
    "import json\n",
    "import os\n",
    "import sys\n",
    "from NuRadioReco.utilities import units\n",
    "from NuRadioReco.detector import detector\n",
    "from NuRadioMC.utilities import fluxes\n",
    "from NuRadioMC.utilities.Veff import get_Veff_Aeff, get_Veff_Aeff_array, get_index, get_Veff_water_equivalent\n",
    "#from my_Veff import get_Veff_Aeff, get_Veff_Aeff_array, get_index, get_Veff_water_equivalent\n",
    "from NuRadioMC.examples.Sensitivities import E2_fluxes3 as limits\n",
    "from Get_hdf5_data import get_attr_data, get_shower_data, get_station_data, get_Veff_data, get_event_data, get_nur_data\n",
    "from Peak_Finding import count_peak, get_noise, save_data_2_csv, read_column_csv, get_noise_and_peak_from_bin\n",
    "import numpy as np\n",
    "import matplotlib.pyplot as plt\n",
    "from NuRadioReco.utilities import units\n",
    "import NuRadioReco.detector.detector as detector\n",
    "import NuRadioReco.modules.io.eventReader\n",
    "import astropy\n",
    "from NuRadioReco.framework.parameters import stationParameters as stnp\n",
    "import pandas as pd\n",
    "from math import isclose\n",
    "import mplhep as hep\n",
    "\n",
    "\n",
    "PATH = \"/home/teikiet/Data/\"\n",
    "##########################################################################\n",
    "S_ID = [100,2, 3, 4, 5] #station ID\n",
    "C_ID = list(range(0,16)) #channel ID\n",
    "##########################################################################\n",
    "threshold = 3.4 #threshold\n",
    "bin_size = 11 #bin size aka time interval x0.625 ns\n",
    "sample_size = 800 #the time interval for peak detection x0.625ns\n",
    "E = 18 #energy\n",
    "num =  1e4 #number of particles\n",
    "detectordescription = \"detector/ara2.json\" #detector \n",
    "##########################################################################\n",
    "#Nur path:\n",
    "inputfilename1 = PATH + f\"sims_monopoles_ara2_n1.000e04_3_18to20/Nur/1.000e{E}_3\"\n",
    "inputfilename2 = PATH + f\"sims_neutrinos_ara2_n1.000e03_4_18to21/Nur/sim_1.000e{E}.nur\"\n",
    "inputfilename3 = PATH + f\"sims_noise_ara2_n1.000e04_1_18to18/Nur/sim_1.000e18_part02.nur\"\n",
    "##########################################################################\n",
    "#Hdf5 path:\n",
    "path1 = PATH + f'sims_monopoles_ara2_n1.000e04_3_18to20/Hdf5/sim_1.000e{E}.hdf5'\n",
    "path2 = PATH + f'sims_neutrinos_ara2_n1.000e04_3_18to20/Hdf5/sim_1.000e{E}.hdf5'\n",
    "path3 = PATH + f'sims_noise_ara2_n1.000e04_1_18to18/Hdf5/'\n",
    "#get_attr_data(path2)\n",
    "##########################################################################\n",
    "#Save data to csv file:\n",
    "data1 = PATH + f'Peak_data/Data_monopoles_ara2_n1.000e04_1e{E}.csv'\n",
    "data2 = PATH + f'Peak_data/Data_neutrinos_ara2_n1.000e04_1e{E}.csv'\n",
    "data3 = PATH + f'Peak_data/Data_noise_ara2.csv'\n",
    "##########################################################################\n"
   ]
  },
  {
   "cell_type": "code",
   "execution_count": 80,
   "metadata": {},
   "outputs": [
    {
     "name": "stderr",
     "output_type": "stream",
     "text": [
      "INFO:Veff:first file with triggernames /home/teikiet/Data/sims_monopoles_ara2_n1.000e04_3_18to20/Hdf5/sim_1.000e18.hdf5: ['hilo_2of4_5_sigma' 'simple_10_sigma']\n",
      "INFO:Veff:Trigger names:  ['hilo_2of4_5_sigma' 'simple_10_sigma']\n",
      "WARNING:Veff:running 1 jobs on 1 cores\n",
      "WARNING:Veff:processing file  /home/teikiet/Data/sims_monopoles_ara2_n1.000e04_3_18to20/Hdf5/sim_1.000e18.hdf5\n"
     ]
    }
   ],
   "source": [
    "E = 18\n",
    "path = PATH + f'sims_monopoles_ara2_n1.000e04_3_18to20/Hdf5/sim_1.000e{E}.hdf5'\n",
    "data = get_Veff_Aeff(path)\n",
    "Veffs, energies, energies_low, energies_up, zenith_bins, utrigger_names = get_Veff_Aeff_array(data)\n",
    "            # calculate the average over all zenith angle bins (in this case only one bin that contains the full sky)\n",
    "Veff = np.average(Veffs[:, :, get_index(\"all_triggers\", utrigger_names), 0], axis=1)\n",
    "            # we also want the water equivalent effective volume times 4pi\n",
    "Veff = get_Veff_water_equivalent(Veff) * 4 * np.pi\n",
    "            # calculate the uncertainty for the average over all zenith angle bins. The error relative error is just 1./sqrt(N)\n",
    "Veff_error = Veff / np.sum(Veffs[:, :, get_index(\"all_triggers\", utrigger_names), 2], axis=1) ** 0.5\n",
    "        \n",
    "            #energies = energies / units.eV\n",
    "            #Veff / units.km ** 3 / units.sr\n",
    "            #Veff_error = Veff_error / units.km ** 3 / units.sr\n",
    "\n"
   ]
  },
  {
   "cell_type": "code",
   "execution_count": 81,
   "metadata": {},
   "outputs": [
    {
     "data": {
      "text/plain": [
       "(array([1.04782226e+10]), array([1.28011864e+09]), array([1.e+18]))"
      ]
     },
     "execution_count": 81,
     "metadata": {},
     "output_type": "execute_result"
    }
   ],
   "source": [
    "Veff, Veff_error, energies\n",
    "#1.04782226e+10"
   ]
  },
  {
   "cell_type": "code",
   "execution_count": 66,
   "metadata": {},
   "outputs": [
    {
     "name": "stderr",
     "output_type": "stream",
     "text": [
      "INFO:Veff:first file with triggernames /home/teikiet/Data/sims_monopoles_ara2_n1.000e04_3_18to20/Hdf5/sim_1.000e18.hdf5: ['hilo_2of4_5_sigma' 'simple_10_sigma']\n",
      "INFO:Veff:Trigger names:  ['hilo_2of4_5_sigma' 'simple_10_sigma']\n",
      "WARNING:Veff:running 1 jobs on 1 cores\n",
      "WARNING:Veff:processing file  /home/teikiet/Data/sims_monopoles_ara2_n1.000e04_3_18to20/Hdf5/sim_1.000e18.hdf5\n",
      "INFO:Veff:first file with triggernames /home/teikiet/Data/sims_neutrinos_ara2_n1.000e04_3_18to20/Hdf5/sim_1.000e18.hdf5: ['hilo_2of4_5_sigma' 'simple_10_sigma']\n",
      "INFO:Veff:Trigger names:  ['hilo_2of4_5_sigma' 'simple_10_sigma']\n",
      "WARNING:Veff:running 1 jobs on 1 cores\n",
      "WARNING:Veff:processing file  /home/teikiet/Data/sims_neutrinos_ara2_n1.000e04_3_18to20/Hdf5/sim_1.000e18.hdf5\n",
      "INFO:Veff:first file with triggernames /home/teikiet/Data/sims_neutrinos_ara2_n1.000e03_4_18to21/Hdf5/sim_1.000e18.hdf5: ['hilo_2of4_5_sigma' 'simple_10_sigma']\n",
      "INFO:Veff:Trigger names:  ['hilo_2of4_5_sigma' 'simple_10_sigma']\n",
      "WARNING:Veff:running 1 jobs on 1 cores\n",
      "WARNING:Veff:processing file  /home/teikiet/Data/sims_neutrinos_ara2_n1.000e03_4_18to21/Hdf5/sim_1.000e18.hdf5\n",
      "INFO:Veff:first file with triggernames /home/teikiet/Data/sims_monopoles_ara2_n1.000e04_3_18to20/Hdf5/sim_1.000e19.hdf5: ['hilo_2of4_5_sigma' 'simple_10_sigma']\n",
      "INFO:Veff:Trigger names:  ['hilo_2of4_5_sigma' 'simple_10_sigma']\n",
      "WARNING:Veff:running 1 jobs on 1 cores\n",
      "WARNING:Veff:processing file  /home/teikiet/Data/sims_monopoles_ara2_n1.000e04_3_18to20/Hdf5/sim_1.000e19.hdf5\n",
      "INFO:Veff:first file with triggernames /home/teikiet/Data/sims_neutrinos_ara2_n1.000e04_3_18to20/Hdf5/sim_1.000e19.hdf5: ['hilo_2of4_5_sigma' 'simple_10_sigma']\n",
      "INFO:Veff:Trigger names:  ['hilo_2of4_5_sigma' 'simple_10_sigma']\n",
      "WARNING:Veff:running 1 jobs on 1 cores\n",
      "WARNING:Veff:processing file  /home/teikiet/Data/sims_neutrinos_ara2_n1.000e04_3_18to20/Hdf5/sim_1.000e19.hdf5\n",
      "INFO:Veff:first file with triggernames /home/teikiet/Data/sims_neutrinos_ara2_n1.000e03_4_18to21/Hdf5/sim_1.000e19.hdf5: ['hilo_2of4_5_sigma' 'simple_10_sigma']\n",
      "INFO:Veff:Trigger names:  ['hilo_2of4_5_sigma' 'simple_10_sigma']\n",
      "WARNING:Veff:running 1 jobs on 1 cores\n",
      "WARNING:Veff:processing file  /home/teikiet/Data/sims_neutrinos_ara2_n1.000e03_4_18to21/Hdf5/sim_1.000e19.hdf5\n",
      "INFO:Veff:first file with triggernames /home/teikiet/Data/sims_monopoles_ara2_n1.000e04_3_18to20/Hdf5/sim_1.000e20.hdf5: ['hilo_2of4_5_sigma' 'simple_10_sigma']\n",
      "INFO:Veff:Trigger names:  ['hilo_2of4_5_sigma' 'simple_10_sigma']\n",
      "WARNING:Veff:running 1 jobs on 1 cores\n",
      "WARNING:Veff:processing file  /home/teikiet/Data/sims_monopoles_ara2_n1.000e04_3_18to20/Hdf5/sim_1.000e20.hdf5\n",
      "INFO:Veff:first file with triggernames /home/teikiet/Data/sims_neutrinos_ara2_n1.000e04_3_18to20/Hdf5/sim_1.000e20.hdf5: ['hilo_2of4_5_sigma' 'simple_10_sigma']\n",
      "INFO:Veff:Trigger names:  ['hilo_2of4_5_sigma' 'simple_10_sigma']\n",
      "WARNING:Veff:running 1 jobs on 1 cores\n",
      "WARNING:Veff:processing file  /home/teikiet/Data/sims_neutrinos_ara2_n1.000e04_3_18to20/Hdf5/sim_1.000e20.hdf5\n",
      "INFO:Veff:first file with triggernames /home/teikiet/Data/sims_neutrinos_ara2_n1.000e03_4_18to21/Hdf5/sim_1.000e20.hdf5: ['hilo_2of4_5_sigma' 'simple_10_sigma']\n",
      "INFO:Veff:Trigger names:  ['hilo_2of4_5_sigma' 'simple_10_sigma']\n",
      "WARNING:Veff:running 1 jobs on 1 cores\n",
      "WARNING:Veff:processing file  /home/teikiet/Data/sims_neutrinos_ara2_n1.000e03_4_18to21/Hdf5/sim_1.000e20.hdf5\n"
     ]
    }
   ],
   "source": [
    "Energy_name = ['18', '19', '20']\n",
    "Veff1 = []\n",
    "Veff2 = []\n",
    "Veff3 = []\n",
    "Veff_error1 = []\n",
    "Veff_error2 = []\n",
    "Veff_error3 = []\n",
    "energies1 = []\n",
    "energies2 = []\n",
    "energies3 = []\n",
    "for E in Energy_name: \n",
    "   #Hdf5 path:\n",
    "    path1 = PATH + f'sims_monopoles_ara2_n1.000e04_3_18to20/Hdf5/sim_1.000e{E}.hdf5'\n",
    "    path2 = PATH + f'sims_neutrinos_ara2_n1.000e04_3_18to20/Hdf5/sim_1.000e{E}.hdf5'\n",
    "    path3 = PATH + f'sims_neutrinos_ara2_n1.000e03_4_18to21/Hdf5/sim_1.000e{E}.hdf5'\n",
    "    Veff1_i, Veff_error1_i, energies1_i = get_Veff_data(path1)\n",
    "    Veff2_i, Veff_error2_i, energies2_i = get_Veff_data(path2)\n",
    "    Veff3_i, Veff_error3_i, energies3_i = get_Veff_data(path3)\n",
    "    Veff1.append(float(Veff1_i))\n",
    "    Veff2.append(float(Veff2_i))\n",
    "    Veff3.append(float(Veff3_i))\n",
    "    Veff_error1.append(float(Veff_error1_i))\n",
    "    Veff_error2.append(float(Veff_error2_i))\n",
    "    Veff_error3.append(float(Veff_error3_i))\n",
    "    energies1.append(float(energies1_i))\n",
    "    energies2.append(float(energies2_i))\n",
    "    energies3.append(float(energies3_i))\n",
    "Veff1 = np.array(Veff1)\n",
    "Veff2 = np.array(Veff2)\n",
    "Veff3 = np.array(Veff3)\n",
    "Veff_error1 = np.array(Veff_error1)\n",
    "Veff_error2 = np.array(Veff_error2)\n",
    "Veff_error3 = np.array(Veff_error3)\n",
    "energies1 = np.array(energies1)\n",
    "energies2 = np.array(energies2)\n",
    "energies3 = np.array(energies3)\n"
   ]
  },
  {
   "cell_type": "code",
   "execution_count": 67,
   "metadata": {},
   "outputs": [
    {
     "data": {
      "text/plain": [
       "(array([1.04782226e+10, 1.53370915e+10, 3.06527110e+10]),\n",
       " array([1.02827338e+10, 4.53684397e+10, 9.73612173e+10]),\n",
       " array([1.23327623e+10, 2.67190327e+10, 1.00131156e+11]))"
      ]
     },
     "execution_count": 67,
     "metadata": {},
     "output_type": "execute_result"
    }
   ],
   "source": [
    "Veff1, Veff2, Veff3"
   ]
  },
  {
   "cell_type": "code",
   "execution_count": 71,
   "metadata": {},
   "outputs": [
    {
     "data": {
      "text/plain": [
       "(8, 110)"
      ]
     },
     "execution_count": 71,
     "metadata": {},
     "output_type": "execute_result"
    },
    {
     "data": {
      "image/png": "[encoded data removed]",
      "text/plain": [
       "<Figure size 600x600 with 1 Axes>"
      ]
     },
     "metadata": {},
     "output_type": "display_data"
    }
   ],
   "source": [
    "    # plot effective volume\n",
    "fig, ax = plt.subplots(1, 1, figsize=(6, 6))\n",
    "ax.errorbar(energies1 / units.eV, Veff1 / units.km ** 3 / units.sr,\n",
    "            yerr=Veff_error1 / units.km ** 3 / units.sr, fmt='--d', capsize = 10, color = \"red\", label = \"monopoles\")\n",
    "\n",
    "ax.errorbar(energies2 / units.eV, Veff2 / units.km ** 3 / units.sr,\n",
    "            yerr=Veff_error2 / units.km ** 3 / units.sr,  fmt='--d', capsize = 10, color = \"blue\", label = \"neutrinos\")\n",
    "\n",
    "\n",
    "ax.semilogy(True)\n",
    "ax.semilogx(True)\n",
    "ax.set_xlabel(\" energy [eV]\")\n",
    "ax.set_ylabel(\"effective volume [km$^3$ sr]\")\n",
    "fig.tight_layout()\n",
    "ax.legend()\n",
    "ax.grid(True, which=\"both\")\n",
    "ax.set_ylim(8, 110)\n"
   ]
  },
  {
   "cell_type": "code",
   "execution_count": null,
   "metadata": {},
   "outputs": [],
   "source": [
    "#trigger efficiency:\n",
    "MM = np.array([4, 8, 14]) \n",
    "MM2 = np.array([67, 98, 196])\n",
    "Neu = np.array([11, 27, 96]) \n",
    "E = np.array([1e18, 1e19, 1e20])\n",
    "\n",
    "plt.figure(figsize=(10, 10))\n",
    "plt.plot(E, (MM+MM2)/11000 *100, label = \"Monopoles\")\n",
    "plt.plot(E, Neu/1000 *100, label = \"Neutrinos\")\n",
    "plt.xscale(\"log\")\n",
    "#plt.yscale(\"log\")\n",
    "plt.ylabel(\"Efficiency [%]\")\n",
    "plt.xlabel(\"Energy [eV]\")\n",
    "plt.title(\"Trigger effieciency\")\n",
    "plt.grid()\n",
    "plt.legend()\n",
    "plt.show()"
   ]
  },
  {
   "cell_type": "code",
   "execution_count": null,
   "metadata": {},
   "outputs": [],
   "source": []
  }
 ],
 "metadata": {
  "kernelspec": {
   "display_name": "Python 3 (ipykernel)",
   "language": "python",
   "name": "python3"
  },
  "language_info": {
   "codemirror_mode": {
    "name": "ipython",
    "version": 3
   },
   "file_extension": ".py",
   "mimetype": "text/x-python",
   "name": "python",
   "nbconvert_exporter": "python",
   "pygments_lexer": "ipython3",
   "version": "3.10.12"
  },
  "orig_nbformat": 4
 },
 "nbformat": 4,
 "nbformat_minor": 2
}
